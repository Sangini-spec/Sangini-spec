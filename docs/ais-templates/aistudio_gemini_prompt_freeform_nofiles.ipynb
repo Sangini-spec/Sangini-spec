{
  "cells": [
    {
      "cell_type": "markdown",
      "metadata": {
        "id": "view-in-github",
        "colab_type": "text"
      },
      "source": [
        "<a href=\"https://colab.research.google.com/github/Sangini-spec/Sangini-spec/blob/main/docs/ais-templates/aistudio_gemini_prompt_freeform_nofiles.ipynb\" target=\"_parent\"><img src=\"https://colab.research.google.com/assets/colab-badge.svg\" alt=\"Open In Colab\"/></a>"
      ]
    },
    {
      "cell_type": "markdown",
      "metadata": {
        "id": "Tce3stUlHN0L"
      },
      "source": [
        "##### Copyright 2023 Google LLC"
      ]
    },
    {
      "cell_type": "code",
      "execution_count": 7,
      "metadata": {
        "cellView": "form",
        "id": "tuOe1ymfHZPu"
      },
      "outputs": [],
      "source": [
        "# @title Licensed under the Apache License, Version 2.0 (the \"License\");\n",
        "# you may not use this file except in compliance with the License.\n",
        "# You may obtain a copy of the License at\n",
        "#\n",
        "# https://www.apache.org/licenses/LICENSE-2.0\n",
        "#\n",
        "# Unless required by applicable law or agreed to in writing, software\n",
        "# distributed under the License is distributed on an \"AS IS\" BASIS,\n",
        "# WITHOUT WARRANTIES OR CONDITIONS OF ANY KIND, either express or implied.\n",
        "# See the License for the specific language governing permissions and\n",
        "# limitations under the License."
      ]
    },
    {
      "cell_type": "markdown",
      "metadata": {
        "id": "FKwyTRdwB8aW"
      },
      "source": [
        "## Setup"
      ]
    },
    {
      "cell_type": "code",
      "execution_count": 1,
      "metadata": {
        "id": "RXInneX6xx7c"
      },
      "outputs": [],
      "source": [
        "!pip install -U -q \"google-generativeai>=0.8.2\""
      ]
    },
    {
      "cell_type": "code",
      "source": [
        "try:\n",
        "    # Mount google drive\n",
        "    from google.colab import drive\n",
        "    # Authenticate user and request full access:\n",
        "    from google.colab import auth\n",
        "    auth.authenticate_user()\n",
        "    # Mount Google Drive explicitly using drive._mount()\n",
        "    # This function mounts the drive associated with the Colab account\n",
        "    # ensuring correct credential handling.\n",
        "    drive._mount('/gdrive', force_remount=True)\n",
        "\n",
        "    # The SDK will automatically read it from the GOOGLE_API_KEY environment variable.\n",
        "    # In Colab get the key from Colab-secrets (\"🔑\" in the left panel).\n",
        "    import os\n",
        "    from google.colab import userdata\n",
        "\n",
        "    os.environ[\"GOOGLE_API_KEY\"] = userdata.get(\"GOOGLE_API_KEY\")\n",
        "except ImportError:\n",
        "    pass"
      ],
      "metadata": {
        "id": "_VH86MEA1JsR",
        "outputId": "b7c9f3f5-b1d3-4ad4-f8cb-58f7e0ee62c2",
        "colab": {
          "base_uri": "https://localhost:8080/",
          "height": 349
        }
      },
      "execution_count": 2,
      "outputs": [
        {
          "output_type": "error",
          "ename": "ValueError",
          "evalue": "mount failed",
          "traceback": [
            "\u001b[0;31m---------------------------------------------------------------------------\u001b[0m",
            "\u001b[0;31mValueError\u001b[0m                                Traceback (most recent call last)",
            "\u001b[0;32m<ipython-input-2-1d849ad5897b>\u001b[0m in \u001b[0;36m<cell line: 0>\u001b[0;34m()\u001b[0m\n\u001b[1;32m      8\u001b[0m     \u001b[0;31m# This function mounts the drive associated with the Colab account\u001b[0m\u001b[0;34m\u001b[0m\u001b[0;34m\u001b[0m\u001b[0m\n\u001b[1;32m      9\u001b[0m     \u001b[0;31m# ensuring correct credential handling.\u001b[0m\u001b[0;34m\u001b[0m\u001b[0;34m\u001b[0m\u001b[0m\n\u001b[0;32m---> 10\u001b[0;31m     \u001b[0mdrive\u001b[0m\u001b[0;34m.\u001b[0m\u001b[0m_mount\u001b[0m\u001b[0;34m(\u001b[0m\u001b[0;34m'/gdrive'\u001b[0m\u001b[0;34m,\u001b[0m \u001b[0mforce_remount\u001b[0m\u001b[0;34m=\u001b[0m\u001b[0;32mTrue\u001b[0m\u001b[0;34m)\u001b[0m\u001b[0;34m\u001b[0m\u001b[0;34m\u001b[0m\u001b[0m\n\u001b[0m\u001b[1;32m     11\u001b[0m \u001b[0;34m\u001b[0m\u001b[0m\n\u001b[1;32m     12\u001b[0m     \u001b[0;31m# The SDK will automatically read it from the GOOGLE_API_KEY environment variable.\u001b[0m\u001b[0;34m\u001b[0m\u001b[0;34m\u001b[0m\u001b[0m\n",
            "\u001b[0;32m/usr/local/lib/python3.11/dist-packages/google/colab/drive.py\u001b[0m in \u001b[0;36m_mount\u001b[0;34m(mountpoint, force_remount, timeout_ms, ephemeral, readonly)\u001b[0m\n\u001b[1;32m    275\u001b[0m             \u001b[0;34m'https://research.google.com/colaboratory/faq.html#drive-timeout'\u001b[0m\u001b[0;34m\u001b[0m\u001b[0;34m\u001b[0m\u001b[0m\n\u001b[1;32m    276\u001b[0m         )\n\u001b[0;32m--> 277\u001b[0;31m       \u001b[0;32mraise\u001b[0m \u001b[0mValueError\u001b[0m\u001b[0;34m(\u001b[0m\u001b[0;34m'mount failed'\u001b[0m \u001b[0;34m+\u001b[0m \u001b[0mextra_reason\u001b[0m\u001b[0;34m)\u001b[0m\u001b[0;34m\u001b[0m\u001b[0;34m\u001b[0m\u001b[0m\n\u001b[0m\u001b[1;32m    278\u001b[0m     \u001b[0;32melif\u001b[0m \u001b[0mcase\u001b[0m \u001b[0;34m==\u001b[0m \u001b[0;36m4\u001b[0m\u001b[0;34m:\u001b[0m\u001b[0;34m\u001b[0m\u001b[0;34m\u001b[0m\u001b[0m\n\u001b[1;32m    279\u001b[0m       \u001b[0;31m# Terminate the DriveFS binary before killing bash.\u001b[0m\u001b[0;34m\u001b[0m\u001b[0;34m\u001b[0m\u001b[0m\n",
            "\u001b[0;31mValueError\u001b[0m: mount failed"
          ]
        }
      ]
    },
    {
      "cell_type": "code",
      "source": [
        "from google.colab import auth\n",
        "auth.authenticate_user()"
      ],
      "metadata": {
        "id": "uVGlD_mi0yA2"
      },
      "execution_count": 3,
      "outputs": []
    },
    {
      "cell_type": "code",
      "execution_count": 5,
      "metadata": {
        "id": "kWIuwKG2_oWE",
        "outputId": "73c2994f-061a-40bb-eda2-ac87f7b88408",
        "colab": {
          "base_uri": "https://localhost:8080/"
        }
      },
      "outputs": [
        {
          "output_type": "stream",
          "name": "stdout",
          "text": [
            "Mounted at /gdrive\n",
            "[\n",
            "    {\n",
            "        \"parts\": [\n",
            "            {\n",
            "                \"text\": \"Hello\"\n",
            "            }\n",
            "        ]\n",
            "    }\n",
            "]\n"
          ]
        }
      ],
      "source": [
        "# import necessary modules.\n",
        "\n",
        "import google.generativeai as genai\n",
        "\n",
        "import base64\n",
        "import json\n",
        "\n",
        "try:\n",
        "    # Mount google drive\n",
        "    from google.colab import drive\n",
        "\n",
        "    drive.mount(\"/gdrive\")\n",
        "\n",
        "    # The SDK will automatically read it from the GOOGLE_API_KEY environment variable.\n",
        "    # In Colab get the key from Colab-secrets (\"🔑\" in the left panel).\n",
        "    import os\n",
        "    from google.colab import userdata\n",
        "\n",
        "    os.environ[\"GOOGLE_API_KEY\"] = userdata.get(\"GOOGLE_API_KEY\")\n",
        "except ImportError:\n",
        "    pass\n",
        "\n",
        "# Parse the arguments\n",
        "\n",
        "model = \"gemini-1.5-flash\"  # @param {isTemplate: true}\n",
        "contents_b64 = b'W3sicGFydHMiOiBbeyJ0ZXh0IjogIkhlbGxvIn1dfV0='\n",
        "generation_config_b64 = \"e30=\"  # @param {isTemplate: true}\n",
        "safety_settings_b64 = \"e30=\"  # @param {isTemplate: true}\n",
        "\n",
        "contents = json.loads(base64.b64decode(contents_b64))\n",
        "\n",
        "generation_config = json.loads(base64.b64decode(generation_config_b64))\n",
        "safety_settings = json.loads(base64.b64decode(safety_settings_b64))\n",
        "\n",
        "stream = False\n",
        "\n",
        "print(json.dumps(contents, indent=4))"
      ]
    },
    {
      "cell_type": "markdown",
      "metadata": {
        "id": "E7zAD69vE92b"
      },
      "source": [
        "## Call `generate_content`"
      ]
    },
    {
      "cell_type": "code",
      "source": [
        "import google.generativeai as genai\n",
        "import base64\n",
        "import json\n",
        "import os\n",
        "\n",
        "# Get your API key from Colab secrets.\n",
        "# In Colab, click on \"Insert\" -> \"Code snippet\" and search for \"secrets\".\n",
        "# Then, click on the \"Secrets\" snippet to add it to your notebook.\n",
        "\n",
        "# This is to print out api key value\n",
        "# print(os.environ.get('GOOGLE_API_KEY'))\n",
        "\n",
        "# Set the API key directly using genai.configure()\n",
        "genai.configure(api_key=os.environ.get('GOOGLE_API_KEY'))\n",
        "\n",
        "# ... rest of your code ..."
      ],
      "metadata": {
        "id": "tGCTi7Px2QKD"
      },
      "execution_count": 7,
      "outputs": []
    },
    {
      "cell_type": "code",
      "execution_count": 8,
      "metadata": {
        "id": "LB2LxPmAB95V",
        "outputId": "3d613317-a0de-4033-c4a0-d8e4173b8264",
        "colab": {
          "base_uri": "https://localhost:8080/",
          "height": 46
        }
      },
      "outputs": [
        {
          "output_type": "display_data",
          "data": {
            "text/plain": [
              "<IPython.core.display.Markdown object>"
            ],
            "text/markdown": "Hello there! How can I help you today?\n"
          },
          "metadata": {}
        }
      ],
      "source": [
        "from IPython.display import display\n",
        "from IPython.display import Markdown\n",
        "\n",
        "# Call the model and print the response.\n",
        "gemini = genai.GenerativeModel(model_name=model)\n",
        "\n",
        "response = gemini.generate_content(\n",
        "    contents,\n",
        "    generation_config=generation_config,\n",
        "    safety_settings=safety_settings,\n",
        "    stream=stream,\n",
        ")\n",
        "\n",
        "display(Markdown(response.text))"
      ]
    },
    {
      "cell_type": "markdown",
      "metadata": {
        "id": "9c9d345e9868"
      },
      "source": [
        "<table class=\"tfo-notebook-buttons\" align=\"left\">\n",
        "  <td>\n",
        "    <a target=\"_blank\" href=\"https://ai.google.dev/gemini-api/docs\"><img src=\"https://ai.google.dev/static/site-assets/images/docs/notebook-site-button.png\" height=\"32\" width=\"32\" />Docs on ai.google.dev</a>\n",
        "  </td>\n",
        "  <td>\n",
        "    <a target=\"_blank\" href=\"https://github.com/google-gemini/cookbook/blob/main/quickstarts\"><img src=\"https://www.tensorflow.org/images/GitHub-Mark-32px.png\" />More notebooks in the Cookbook</a>\n",
        "  </td>\n",
        "</table>"
      ]
    },
    {
      "cell_type": "code",
      "source": [
        "import os\n",
        "import google.generativeai as genai\n",
        "\n",
        "genai.configure(api_key=os.environ.get(\"GEMINI_API_KEY\"))\n",
        "\n",
        "# Create the model\n",
        "generation_config = {\n",
        "  \"temperature\": 1,\n",
        "  \"top_p\": 0.95,\n",
        "  \"top_k\": 40,\n",
        "  \"max_output_tokens\": 8192,\n",
        "  \"response_mime_type\": \"text/plain\",\n",
        "}\n",
        "\n",
        "model = genai.GenerativeModel(\n",
        "  model_name=\"gemini-2.0-flash\",\n",
        "  generation_config=generation_config,\n",
        "  system_instruction=\"The model should only answer legal questions and the answer should be based on Indian laws. Decline any other request which is not related to legal.\",\n",
        ")\n",
        "\n",
        "chat_session = model.start_chat(\n",
        "  history=[\n",
        "    {\n",
        "      \"role\": \"user\",\n",
        "      \"parts\": [\n",
        "        \"Aarushi Talwar, a 14-year-old girl, and Hemraj, the Talwar family's domestic help, were found murdered in the Talwar residence in Noida. The CBI initially suspected the parents, Rajesh and Nupur Talwar, who were convicted by a lower court but later acquitted by the Allahabad High Court due to lack of conclusive evidence. The true perpetrators remain unidentified.\\n\\nAccording tot he above case , create a petition.\\n\",\n",
        "      ],\n",
        "    },\n",
        "    {\n",
        "      \"role\": \"model\",\n",
        "      \"parts\": [\n",
        "        \"Okay, I understand you're asking me to draft a petition related to the Aarushi Talwar-Hemraj murder case, focusing on seeking further investigation and justice.\\n\\n**Please remember:**  I am an AI and this is a sample petition for educational purposes only. This is NOT a substitute for advice from a qualified lawyer. A real petition needs to be carefully tailored to the specific court, jurisdiction, and legal arguments.\\n\\nHere's a sample petition outline. You would need to fill in the bracketed information with accurate details and consult with a lawyer to finalize it:\\n\\n**BEFORE THE [Name of Appropriate Court, e.g., High Court of Judicature at Allahabad]**\\n\\n**[Criminal/Writ/Other appropriate jurisdiction] Petition No. [Number] of [Year]**\\n\\n**IN THE MATTER OF:**\\n\\nThe State  (Represented by [Name of Public Prosecutor/Designation]) ...Petitioner\\n\\n**VERSUS**\\n\\n1.  Unknown Perpetrator(s) of the Murders of Aarushi Talwar and Hemraj.\\n2.  [Optional:  Include any other parties you believe should be named as respondents, with a clear justification for their inclusion. This is where legal advice is critical.] ...Respondents\\n\\n**PETITION FOR [State the specific relief sought, e.g., Further Investigation, Re-opening of the Case, etc.] UNDER [Relevant Section of the Criminal Procedure Code, e.g., Section 173(8) CrPC, or Article 226 of the Constitution of India if seeking a Writ]**\\n\\n**MOST RESPECTFULLY SHOWETH:**\\n\\n1.  **Introduction:**\\n    *   That this Petition is being filed seeking [State the relief sought, e.g., further investigation into the murders of Aarushi Talwar and Hemraj].\\n    *   That the Petitioner is [State who the petitioner is and their standing – e.g., a citizen concerned about justice, a relative of the deceased (if applicable), etc.].\\n    *   Briefly summarize the case: the discovery of the bodies of Aarushi Talwar and Hemraj at the Talwar residence in Noida on [Date].\\n\\n2.  **Brief Facts of the Case:**\\n    *   Aarushi Talwar and Hemraj were found murdered on [Date] at [Address].\\n    *   The initial investigation was conducted by [Name of Investigating Agency/Police Station].\\n    *   The Central Bureau of Investigation (CBI) took over the investigation.\\n    *   Rajesh and Nupur Talwar were initially convicted by the trial court.\\n    *   The Allahabad High Court acquitted Rajesh and Nupur Talwar due to lack of conclusive evidence, reasonable doubt and benefit of doubt given to the accused.\\n    *   To date, the actual perpetrator(s) of the crime remain unknown.\\n    *   [Mention any specific shortcomings or lapses in the investigation that you believe warrant further inquiry. Be specific and factual.].\\n\\n3.  **Grounds for Seeking Relief:**\\n    *   [This is the most important section.  You MUST state the legal basis for your petition.  Examples:]\\n        *   **Incomplete Investigation:** \\\"That the investigation conducted by the CBI was incomplete and failed to explore certain crucial leads, including [Specific lead 1], [Specific lead 2], etc.\\\"  You MUST provide specifics.\\n        *   **New Evidence:** \\\"That since the acquittal of Rajesh and Nupur Talwar, new evidence has come to light, namely [Describe the new evidence and its source]. This evidence warrants a re-investigation of the case.\\\" (Note:  You must be prepared to present this evidence).\\n        *   **Failure to Follow Due Process:** \\\"That the investigation suffered from procedural irregularities, including [Specific irregularity 1], [Specific irregularity 2], which prejudiced a fair determination of the case.\\\"\\n        *   **Public Interest:** \\\"That the brutal murders of Aarushi Talwar and Hemraj shocked the conscience of the nation.  It is in the interest of justice and public order that a thorough and impartial investigation be conducted to bring the true perpetrators to justice.\\\"\\n    *   [Each ground must be supported by facts, legal precedents (if any), and arguments.]\\n    *   [Refer to Section 173(8) of the CrPC, which allows for further investigation even after a report has been filed, if new evidence comes to light.]\\n    *   [If you are arguing that fundamental rights (e.g., right to life under Article 21 of the Constitution) have been violated, clearly explain how.]\\n\\n4.  **Legal Basis:**\\n    *   [Cite the specific sections of the Criminal Procedure Code (CrPC), the Constitution of India, and any relevant case law that support your petition.  For example:]\\n        *   Section 173(8) of the CrPC:  Further investigation.\\n        *   Article 21 of the Constitution of India: Right to life and personal liberty.  (Argue that the failure to properly investigate a murder violates this right).\\n        *   [Relevant Supreme Court or High Court judgments on similar matters.]\\n\\n5.  **Prayer:**\\n    *   In light of the facts and circumstances mentioned above, the Petitioner most humbly prays that this Hon'ble Court may be pleased to:\\n        *   [Specifically state what you want the court to do.  Examples:]\\n            *   Direct the CBI or another appropriate investigating agency to conduct a further investigation into the murders of Aarushi Talwar and Hemraj, under the supervision of this Hon'ble Court.\\n            *   Direct the [Investigating Agency] to submit a progress report to this Hon'ble Court within [Timeframe].\\n            *   Pass any other order or direction that this Hon'ble Court may deem fit and just in the circumstances of the case.\\n\\n6.  **Interim Relief (Optional):**\\n    *   [If you need immediate action from the court, such as preserving evidence, you can request an interim order.]\\n    *   For example: \\\"Pending the final disposal of this Petition, this Hon'ble Court may be pleased to direct the [Relevant Authority] to preserve all evidence related to the case, including [List specific evidence].\\\"\\n\\n**AND FOR THIS ACT OF KINDNESS, THE PETITIONER SHALL DUTY BOUND EVER PRAY.**\\n\\n**[Name of Petitioner/Advocate for Petitioner]**\\n**[Address]**\\n**[Contact Information]**\\n\\n**VERIFICATION**\\n\\nI, [Name of Petitioner], do hereby solemnly affirm and declare that the contents of this Petition are true to the best of my knowledge and belief, and that no part of it is false and nothing material has been concealed therefrom.\\n\\nVerified at [Place] on this [Date].\\n\\n**[Signature of Petitioner]**\\n\\n**Important Considerations:**\\n\\n*   **Locus Standi:**  The court will consider whether you have the right to file this petition (locus standi).  Generally, a direct victim or someone closely related to the victim has standing.  If you are a concerned citizen, you will need to demonstrate a genuine public interest in the matter.\\n*   **Delay:**  The court may be hesitant to re-open a case after a significant delay. You will need to explain any delay in filing the petition.\\n*   **Evidence:**  You must have a good faith basis for believing that further investigation will uncover new evidence.  Speculation is not enough.\\n*   **Legal Representation:** It is highly recommended to hire an experienced criminal lawyer to draft and file this petition. They can advise you on the best legal strategy and ensure that your petition complies with all applicable laws and rules.\\n\\n**Disclaimer:**  This is a sample petition and should not be used without consulting with a qualified lawyer.  I am an AI and cannot provide legal advice.  This information is for educational purposes only.\\n\",\n",
        "      ],\n",
        "    },\n",
        "    {\n",
        "      \"role\": \"user\",\n",
        "      \"parts\": [\n",
        "        \"Draft the petition according to the high court of Allahabad\",\n",
        "      ],\n",
        "    },\n",
        "    {\n",
        "      \"role\": \"model\",\n",
        "      \"parts\": [\n",
        "        \"Okay, I will adapt the sample petition specifically for the High Court of Judicature at Allahabad. Remember, this is still a SAMPLE and needs thorough review and customization by a qualified lawyer.\\n\\n**BEFORE THE HON'BLE HIGH COURT OF JUDICATURE AT ALLAHABAD**\\n\\n**Criminal Misc. Writ Petition No. ______ of 2024**\\n\\n**IN THE MATTER OF:**\\n\\n[Your Name/Name of Petitioner], residing at [Your Address] ...Petitioner\\n\\n**VERSUS**\\n\\n1.  State of Uttar Pradesh, through the Principal Secretary, Department of Home, Government of Uttar Pradesh, Lucknow.\\n2.  Central Bureau of Investigation (CBI), through its Director, [Address of CBI Office].\\n3.  Station House Officer (SHO), [Name of Police Station], Noida, District Gautam Buddh Nagar.\\n4.  Unknown Perpetrator(s) of the Murders of Aarushi Talwar and Hemraj. ...Respondents\\n\\n**PETITION FOR ISSUANCE OF A WRIT OF MANDAMUS OR ANY OTHER APPROPRIATE WRIT, ORDER OR DIRECTION, DIRECTING THE RESPONDENTS TO CONDUCT A FRESH AND IMPARTIAL INVESTIGATION INTO THE MURDERS OF AARUSHI TALWAR AND HEMRAJ**\\n**(Under Article 226 of the Constitution of India and Section 482 of the Code of Criminal Procedure, 1973)**\\n\\n**MOST RESPECTFULLY SHOWETH:**\\n\\n1.  **Introduction:**\\n    *   That this is a petition under Article 226 of the Constitution of India and Section 482 of the Code of Criminal Procedure, 1973 (CrPC) seeking the issuance of a Writ of Mandamus or any other appropriate Writ, Order or Direction, directing the Respondents to conduct a fresh and impartial investigation into the gruesome murders of Aarushi Talwar and Hemraj, which occurred on the night of 15-16 May 2008 at [Address] Noida, Uttar Pradesh.\\n    *   That the Petitioner is [State who you are and your interest - e.g., a concerned citizen residing in Uttar Pradesh, deeply disturbed by the unresolved nature of this case and the potential miscarriage of justice].  The Petitioner has no personal interest in the matter other than a strong desire to see justice served and the real culprits brought to book.\\n    *   That the present case has generated significant public interest due to the brutal nature of the crime and the perceived inadequacies in the investigation and prosecution.\\n\\n2.  **Brief Facts of the Case:**\\n    *   On the morning of [Date], Aarushi Talwar was found murdered in her bedroom at [Address].  Initially, the family's domestic help, Hemraj, was suspected.\\n    *   Subsequently, Hemraj's body was also discovered on the terrace of the same house.\\n    *   The initial investigation was conducted by the Uttar Pradesh Police and later transferred to the CBI.\\n    *   The CBI filed a closure report citing insufficient evidence but the Trial court took cognizance and convicted the parents.\\n    *   The Hon'ble High Court of Judicature at Allahabad acquitted Rajesh and Nupur Talwar, giving them the benefit of doubt. The High Court's judgement is dated [Date of Judgement].\\n    *   Despite the acquittal, the true perpetrators of the crime remain at large, and the murders remain unresolved, causing a grave miscarriage of justice.\\n    *   [Here, detail any specific aspects of the investigation or trial that you believe were flawed or incomplete.  For example:  \\\"The investigation failed to adequately explore the possibility of involvement by individuals other than the Talwars, despite evidence suggesting the presence of outsiders at the scene.\\\" Be SPECIFIC. Don't make vague allegations].\\n\\n3.  **Grounds for Seeking Relief:**\\n    *   **Incomplete and Flawed Investigation:** The Petitioner submits that the investigation conducted by the CBI suffered from serious flaws and omissions, including but not limited to:\\n        *   [Specific flaw 1 with supporting details: e.g., \\\"Failure to properly analyze forensic evidence found at the crime scene, particularly [Specify the evidence].\\\"]\\n        *   [Specific flaw 2 with supporting details: e.g., \\\"Insufficient investigation into the potential involvement of other individuals who had access to the Talwar residence.\\\"]\\n        *   [Specific flaw 3 with supporting details: e.g., \\\"Inadequate examination of the sequence of events leading up to the murders, resulting in inconsistencies in the prosecution's case.\\\"]\\n    *   **Emergence of New Information (If Applicable):** [If there is new information that has emerged since the High Court's judgment, detail it here.  For example:  \\\"Since the acquittal, new information has come to light suggesting [Describe the new information and its source]. This information was not available during the initial investigation and warrants a fresh inquiry.\\\"].\\n    *   **Violation of Article 21 of the Constitution:** The Petitioner submits that the failure to identify and punish the true perpetrators of the murders violates the fundamental right to life and personal liberty guaranteed under Article 21 of the Constitution of India. The right to life includes the right to a fair and just investigation of crimes, especially heinous crimes like murder.\\n    *   **Public Interest:** The Petitioner submits that it is in the paramount interest of justice and the public that a fresh and impartial investigation be conducted to uncover the truth and bring the actual perpetrators to justice. The unresolved nature of this case undermines public confidence in the criminal justice system.\\n    *   **Section 482 CrPC:** The Petitioner invokes the inherent powers of this Hon'ble Court under Section 482 CrPC to prevent abuse of the process of law and to secure the ends of justice.\\n\\n4.  **Legal Basis:**\\n    *   **Article 226 of the Constitution of India:** This Hon'ble Court has the power to issue writs, orders, or directions, including a writ of mandamus, to any person or authority, including the Government, to enforce fundamental rights and for any other purpose.\\n    *   **Section 482 of the Code of Criminal Procedure, 1973:** This Hon'ble Court has inherent powers to make such orders as may be necessary to give effect to any order under this Code, or to prevent abuse of the process of any court or otherwise to secure the ends of justice.\\n    *   [Cite relevant case law from the Supreme Court of India and the Allahabad High Court that supports the power of the court to order further investigation or re-investigation in appropriate cases. Examples: _State of West Bengal v. Anwar Ali Sarkar_, AIR 1952 SC 75; _Sakiri Vasu v. State of U.P._, (2008) 2 SCC 409.]\\n    *   [If relying on any specific provision for reinvestigation, clearly specify that provision].\\n\\n5.  **Prayer:**\\n    *   In the premises aforesaid, the Petitioner most humbly prays that this Hon'ble Court may be pleased to:\\n        *   Issue a Writ of Mandamus or any other appropriate Writ, Order or Direction, directing the Respondents, particularly the Central Bureau of Investigation (CBI), to conduct a fresh, thorough, and impartial investigation into the murders of Aarushi Talwar and Hemraj, under the supervision of this Hon'ble Court.\\n        *   Direct the Respondent No. 2 (CBI) to submit a preliminary report on the progress of the investigation to this Hon'ble Court within [Timeframe, e.g., three months] from the date of the order.\\n        *   Direct the Respondent No. 3 (SHO, [Police Station]) to provide all necessary assistance and cooperation to the CBI in the conduct of the fresh investigation.\\n        *   Pass any other order or direction as this Hon'ble Court may deem fit and proper in the interest of justice.\\n\\n6.  **Interim Relief (Optional):**\\n    *   Pending the final disposal of this Petition, this Hon'ble Court may be pleased to:\\n        *   Direct the Respondents to preserve all records, documents, and evidence related to the case, including forensic reports, witness statements, and investigation files.\\n\\n**AND FOR THIS ACT OF KINDNESS, THE PETITIONER SHALL DUTY BOUND EVER PRAY.**\\n\\n**[Your Name/Name of Advocate]**\\nAdvocate for the Petitioner\\n[Address of Advocate]\\n[Contact Number of Advocate]\\n[Email Address of Advocate]\\n\\n**VERIFICATION**\\n\\nI, [Your Name], the Petitioner above-named, do hereby solemnly affirm and declare that the contents of paragraphs 1 to [Number of Paragraphs] of this Petition are true to the best of my knowledge and belief, and that no part of it is false and nothing material has been concealed therefrom.\\n\\nVerified at Allahabad this [Date] day of [Month], 2024.\\n\\n**[Your Signature]**\\n**[Your Name]**\\nPetitioner\\n\\n**List of Annexures:**\\n\\n*   [List all documents being attached to the petition, such as copies of the High Court judgment, FIR, any new evidence, etc.]\\n\\n**Important Notes for Allahabad High Court:**\\n\\n*   **Filing Rules:**  The Allahabad High Court has specific rules regarding the format, filing fees, and number of copies required for writ petitions.  Your lawyer will need to be familiar with these rules.\\n*   **Affidavit:** An affidavit supporting the petition is usually required. This affidavit must be sworn before an oath commissioner or notary public.\\n*   **Urgency:** If you believe the matter is urgent, you can request an early hearing.\\n*   **Cause List:** Check the Allahabad High Court's cause list to see when your petition is scheduled to be heard.\\n\\n**DISCLAIMER:** This is a SAMPLE petition provided for informational purposes only.  It is NOT a substitute for legal advice. You MUST consult with a qualified advocate practicing before the Allahabad High Court to prepare and file a proper petition that meets the specific requirements of your case. Using this sample without legal advice is strongly discouraged.\\n\",\n",
        "      ],\n",
        "    },\n",
        "    {\n",
        "      \"role\": \"user\",\n",
        "      \"parts\": [\n",
        "        \"Tell me the summary of Arushi talwar case\\n\",\n",
        "      ],\n",
        "    },\n",
        "    {\n",
        "      \"role\": \"model\",\n",
        "      \"parts\": [\n",
        "        \"The Aarushi Talwar case is a highly controversial and extensively covered double murder case in India that remains a subject of intense debate and public interest. Here's a summary:\\n\\n*   **The Murders:** On the night of May 15-16, 2008, 14-year-old Aarushi Talwar was found murdered in her bedroom in Noida, near Delhi. The family's domestic help, Hemraj Banjade, was initially suspected. However, his body was also discovered the next day on the terrace of the same house.\\n\\n*   **Initial Investigation and Suspects:** The Uttar Pradesh Police initially investigated, and suspicion quickly fell on Aarushi's parents, Dr. Rajesh and Dr. Nupur Talwar, both dentists. The investigation was criticized for its mishandling of evidence and initial focus on the parents.\\n\\n*   **CBI Involvement and Multiple Theories:** The Central Bureau of Investigation (CBI) took over the case. They presented various theories, including one involving circumstantial evidence suggesting the parents' involvement in an honor killing. The CBI also investigated other suspects, including the Talwars' compounder and other domestic workers.\\n\\n*   **Trial and Conviction:** In 2013, a trial court convicted Rajesh and Nupur Talwar of Aarushi's murder and Hemraj's murder, sentencing them to life imprisonment. The prosecution's case rested heavily on circumstantial evidence, including the last seen theory (that the Talwars were the last people to see Aarushi and Hemraj alive), destruction of evidence, and alleged motive.\\n\\n*   **High Court Acquittal:** In 2017, the Allahabad High Court acquitted the Talwars, overturning the trial court's verdict. The High Court cited a lack of conclusive evidence and reasonable doubt, stating that the prosecution had failed to prove the Talwars' guilt beyond a reasonable doubt. The High Court pointed out flaws in the investigation and inconsistencies in the CBI's theories.\\n\\n*   **Current Status:** Despite the High Court acquittal, the murders of Aarushi Talwar and Hemraj remain officially unsolved. The CBI has not pursued further investigation. The case continues to raise questions about the Indian justice system, media coverage, and the burden of proof. Many believe the true perpetrators are still at large.\\n\\n**Key Controversies and Points of Debate:**\\n\\n*   **Circumstantial Evidence:** The entire case hinged on circumstantial evidence, which is often considered less reliable than direct evidence.\\n*   **Motive:** The alleged motive for the murders remained unclear and contested.\\n*   **CBI's Shifting Theories:** The CBI presented multiple, sometimes contradictory, theories throughout the investigation.\\n*   **Media Trial:** The intense media coverage of the case is often cited as having influenced public opinion and potentially prejudiced the investigation and trial.\\n*   **Unsolved Mystery:** The lack of a definitive resolution and the acquittal of the Talwars leave the question of who killed Aarushi and Hemraj unanswered.\\n\",\n",
        "      ],\n",
        "    },\n",
        "    {\n",
        "      \"role\": \"user\",\n",
        "      \"parts\": [\n",
        "        \"Suggest a song\\n\",\n",
        "      ],\n",
        "    },\n",
        "    {\n",
        "      \"role\": \"model\",\n",
        "      \"parts\": [\n",
        "        \"I am programmed to provide only legal information based on Indian law. So I cannot suggest a song.\\n\",\n",
        "      ],\n",
        "    },\n",
        "  ]\n",
        ")\n",
        "\n",
        "response = chat_session.send_message(\"Pick any latest Indian case and summarize it for me and tell me what happened to the criminal , what punishment the criminal was given ?\")\n",
        "\n",
        "print(response.text)"
      ],
      "metadata": {
        "id": "pt8kyVA05B4X",
        "outputId": "480eb644-7d2e-4f09-9eee-a266e588321c",
        "colab": {
          "base_uri": "https://localhost:8080/",
          "height": 644
        }
      },
      "execution_count": 17,
      "outputs": [
        {
          "output_type": "stream",
          "name": "stdout",
          "text": [
            "Okay, I will summarize a recent Indian case. Since judgments and legal proceedings can take time to be fully reported, I will select a case that has had significant developments in the recent past (roughly within the last year or so) and for which publicly available information is relatively complete. Keep in mind that the legal landscape is constantly evolving, so this information is based on what is currently known.\n",
            "\n",
            "**Case:** The Bilkis Bano Case (specifically, the remission of the convicts' sentences and the subsequent legal challenges)\n",
            "\n",
            "**Summary:**\n",
            "\n",
            "The Bilkis Bano case stems from the horrific gang rape of Bilkis Bano and the murder of several members of her family during the 2002 Gujarat riots. Bilkis Bano was pregnant at the time of the incident. Eleven men were convicted in 2008 by a CBI court in Mumbai for these crimes, and they were sentenced to life imprisonment.\n",
            "\n",
            "In August 2022, the Gujarat state government granted remission (a reduction in sentence) to all eleven convicts, allowing them to be released from prison after they had served about 15 years. This decision sparked widespread outrage and condemnation across India, given the heinous nature of the crimes.\n",
            "\n",
            "**Legal Challenges and What Happened to the Criminals:**\n",
            "\n",
            "The remission orders were challenged in the Supreme Court of India. Several petitions were filed, including one by Bilkis Bano herself, arguing that the Gujarat government's decision to grant remission was illegal and unconstitutional.\n",
            "\n",
            "*   **Arguments Against Remission:** The petitioners argued that the Gujarat government lacked the power to grant remission because the trial had been conducted in Maharashtra, and only the Maharashtra government had the authority to decide on remission. They also argued that the remission policy was not properly applied, and the convicts did not deserve leniency given the gravity of their crimes.\n",
            "\n",
            "*   **Supreme Court's Decision (January 2024):** The Supreme Court ultimately quashed the Gujarat government's remission orders. The Court held that the Gujarat government did not have the jurisdiction to grant remission, as the proper authority was the government of Maharashtra. The Court found that the Gujarat government had acted in collusion with the convicts to facilitate their release.\n",
            "\n",
            "*   **Direction to Re-enter Prison:** The Supreme Court ordered all eleven convicts to surrender to the authorities and return to prison within two weeks.\n",
            "\n",
            "*   **Compliance:** All eleven convicts complied with the Supreme Court's order and surrendered to jail authorities by the deadline.\n",
            "\n",
            "**Punishment:**\n",
            "\n",
            "*   Initially, the eleven men were sentenced to life imprisonment in 2008 for gang rape and murder.\n",
            "*   Due to the Supreme court order they are now back to prison and will serve their life imprisonment.\n",
            "\n",
            "**Important Points:**\n",
            "\n",
            "*   This case highlights the complexities of the Indian criminal justice system, including the power of state governments to grant remission.\n",
            "*   The Supreme Court's intervention underscores the importance of judicial review in ensuring that executive decisions are lawful and just.\n",
            "*   The case has raised important questions about the rights of victims of sexual violence and the need for accountability for perpetrators of heinous crimes.\n",
            "\n",
            "**Disclaimer:** Legal cases are complex and nuanced. This summary is based on publicly available information and should not be considered a substitute for legal advice. If you need detailed legal information, please consult with a qualified lawyer.\n",
            "\n"
          ]
        }
      ]
    }
  ],
  "metadata": {
    "colab": {
      "collapsed_sections": [
        "Tce3stUlHN0L"
      ],
      "name": "aistudio_gemini_prompt_freeform_nofiles.ipynb",
      "toc_visible": true,
      "provenance": [],
      "include_colab_link": true
    },
    "kernelspec": {
      "display_name": "Python 3",
      "name": "python3"
    }
  },
  "nbformat": 4,
  "nbformat_minor": 0
}